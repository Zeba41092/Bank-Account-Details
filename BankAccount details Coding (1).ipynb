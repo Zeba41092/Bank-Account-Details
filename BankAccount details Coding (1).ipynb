{
  "metadata": {
    "language_info": {
      "codemirror_mode": {
        "name": "python",
        "version": 3
      },
      "file_extension": ".py",
      "mimetype": "text/x-python",
      "name": "python",
      "nbconvert_exporter": "python",
      "pygments_lexer": "ipython3",
      "version": "3.8"
    },
    "kernelspec": {
      "name": "python",
      "display_name": "Python (Pyodide)",
      "language": "python"
    }
  },
  "nbformat_minor": 4,
  "nbformat": 4,
  "cells": [
    {
      "cell_type": "code",
      "source": "",
      "metadata": {},
      "execution_count": null,
      "outputs": []
    },
    {
      "cell_type": "code",
      "source": "#a creating a bank class\nclass Bank:\n    def __init__(self, ifsc_code, bank_name, branch_name, location):\n        self.ifsc_code = ifsc_code\n        self.bank_name = bank_name\n        self.branch_name = branch_name\n        self.location = location\n  # creating a customer class      \nclass Customer:\n    def __init__(self, customer_id, cust_name, address, contact_details):\n        self.customer_id = customer_id\n        self.cust_name = cust_name\n        self.address = address\n        self.contact_details = contact_details\n #creating Account class inherits from bank and using super function       \nclass Account(Bank):\n    def __init__(self, ifsc_code, bank_name, branch_name, location, account_id, cust_obj, balance):\n        super().__init__(ifsc_code, bank_name, branch_name, location)\n        self.account_id = account_id\n        self.cust_obj = cust_obj\n        self.balance = balance\n        \n#function to get information of bank details\n\n    def get_account_info(self):\n        print(\"IFSC Code: \", self.ifsc_code)\n        print(\"Bank Name: \", self.bank_name)\n        print(\"Branch Name: \", self.branch_name)\n        print(\"Location: \", self.location)\n        print(\"Account ID: \", self.account_id)\n        print(\"Customer ID: \", self.cust_obj.customer_id)\n        print(\"Customer Name: \", self.cust_obj.cust_name)\n        print(\"Address: \", self.cust_obj.address)\n        print(\"Contact Details: \", self.cust_obj.contact_details)\n        print(\"Account Balance: \", self.balance)\n        \n   # function for accessing deposit,withdrwal from the account \n\n    def deposit(self, amount, is_cash):\n        if is_cash == 'true':\n            self.balance += amount\n            print(\"Amount Deposited: \", amount)\n            print(\"Updated Account Balance: \", self.balance)\n        else:\n            print(\"Invalid Input\")\n        \n    def withdraw(self, amount):\n        if self.balance - amount < 0:\n            print(\"Insufficient Balance\")\n        else:\n            self.balance -= amount\n            print(\"Amount Withdrawn: \", amount)\n            print(\"Updated Account Balance: \", self.balance)\n            \n    def get_balance(self):\n        print(\"Account Balance: \", self.balance)\n        \n        \n#creating a class saving account that inherit from the account and knows minimum balance\n\nclass SavingsAccount(Account):\n    def __init__(self, ifsc_code, bank_name, branch_name, location, account_id, cust_obj, balance, min_balance):\n        super().__init__(ifsc_code, bank_name, branch_name, location, account_id, cust_obj, balance)\n        self.min_balance = min_balance\n        \n    def get_savings_account_info(self):\n        self.get_account_info()\n        print(\"Minimum Balance: \", self.min_balance)\n        \n    def withdraw(self, amount):\n        if self.balance - amount < self.min_balance:\n            print(\"Cannot Withdraw. Minimum Balance should be maintained\")\n        else:\n            self.balance -= amount\n            print(\"Amount Withdrawn: \", amount)\n            print(\"Updated Account Balance: \", self.balance)\n\nclass Banking:\n    def __init__(self):\n        self.accounts = []\n        \n    def create_account(self, ifsc_code, bank_name, branch_name, location, account_id, cust_obj, balance, account_type, min_balance=0):\n        if account_type.lower() == \"savings\":\n            acc_obj = SavingsAccount(ifsc_code, bank_name, branch_name, location, account_id, cust_obj, balance, min_balance)\n        else:\n            acc_obj = Account(ifsc_code, bank_name, branch_name, location, account_id, cust_obj, balance)\n        self.accounts.append(acc_obj)\n        \n    def deposit(self, account_id, amount, is_cash):\n        for acc in self.accounts:\n            if acc.account_id == account_id:\n                acc.deposit(amount, is_cash)\n                break\n                \n  \n\n    def withdraw(self, account_id, amount):\n        for acc in self.accounts:\n            if acc.account_id == account_id:\n                acc.withdraw(amount)\n                break\n                \n    def get_balance(self, account_id):\n        for acc in self.accounts:\n            if acc.account_id == account_id:\n                acc.get_balance()\n                break\n                \n    def get_account_info(self, account_id):\n        for acc in self.accounts:\n            if acc.account_id == account_id:\n                acc.get_account_info()\n                break\n                \n    def get_savings_account_info(self, account_id):\n        for acc in self.accounts:\n            if isinstance(acc, SavingsAccount) and acc.account_id == account_id:\n                acc.get_savings_account_info()\n                break\n\nif __name__ == \"__main__\":\n    bank = Banking()\n    cust_obj1 = Customer(\"C001\", \"John\", \"123, Main Street, New York\", \"1234567890\")\n    bank.create_account(\"ICIC0000001\", \"ICICI Bank\", \"New York Branch\", \"New York\", \"A1001\", cust_obj1, 10000, \"Savings\", 5000)\n    \n    cust_obj2 = Customer(\"C002\", \"Smith\", \"456, Park Avenue, New York\", \"0987654321\")\n    bank.create_account(\"SBI0000001\", \"SBI\", \"New York Branch\", \"New York\", \"A1002\", cust_obj2, 20000, \"Current\")\n    \n    print(\"\\n--- Account Information ---\")\n    bank.get_account_info(\"A1001\")\n    bank.get_account_info(\"A1002\")\n    \n    print(\"\\n--- Deposit ---\")\n    bank.deposit(\"A1001\", 5000, 'true')\n    bank.get_balance(\"A1001\")\n    \n    print(\"\\n--- Withdraw ---\")\n    bank.withdraw(\"A1001\", 3000)\n    bank.get_balance(\"A1001\")\n    \n    print(\"\\n--- Savings Account Information ---\")\n    bank.get_savings_account_info(\"A1001\")\n    \n    print(\"\\n--- Withdraw from Savings Account ---\")\n    bank.withdraw(\"A1001\", 7000)\n    bank.get_balance(\"A1001\")\n    \n    print(\"\\n--- Withdraw from Savings Account (Minimum Balance) ---\")\n    bank.withdraw(\"A1001\", 2000)\n    bank.get_balance(\"A1001\")",
      "metadata": {
        "trusted": true
      },
      "execution_count": 5,
      "outputs": [
        {
          "name": "stdout",
          "text": "\n--- Account Information ---\nIFSC Code:  ICIC0000001\nBank Name:  ICICI Bank\nBranch Name:  New York Branch\nLocation:  New York\nAccount ID:  A1001\nCustomer ID:  C001\nCustomer Name:  John\nAddress:  123, Main Street, New York\nContact Details:  1234567890\nAccount Balance:  10000\nIFSC Code:  SBI0000001\nBank Name:  SBI\nBranch Name:  New York Branch\nLocation:  New York\nAccount ID:  A1002\nCustomer ID:  C002\nCustomer Name:  Smith\nAddress:  456, Park Avenue, New York\nContact Details:  0987654321\nAccount Balance:  20000\n\n--- Deposit ---\nAmount Deposited:  5000\nUpdated Account Balance:  15000\nAccount Balance:  15000\n\n--- Withdraw ---\nAmount Withdrawn:  3000\nUpdated Account Balance:  12000\nAccount Balance:  12000\n\n--- Savings Account Information ---\nIFSC Code:  ICIC0000001\nBank Name:  ICICI Bank\nBranch Name:  New York Branch\nLocation:  New York\nAccount ID:  A1001\nCustomer ID:  C001\nCustomer Name:  John\nAddress:  123, Main Street, New York\nContact Details:  1234567890\nAccount Balance:  12000\nMinimum Balance:  5000\n\n--- Withdraw from Savings Account ---\nAmount Withdrawn:  7000\nUpdated Account Balance:  5000\nAccount Balance:  5000\n\n--- Withdraw from Savings Account (Minimum Balance) ---\nCannot Withdraw. Minimum Balance should be maintained\nAccount Balance:  5000\n",
          "output_type": "stream"
        }
      ]
    }
  ]
}